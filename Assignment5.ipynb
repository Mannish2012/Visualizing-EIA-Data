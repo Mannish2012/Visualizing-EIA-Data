{
  "nbformat": 4,
  "nbformat_minor": 0,
  "metadata": {
    "colab": {
      "provenance": [],
      "authorship_tag": "ABX9TyOv7HPUKbAwzZ/mWuzmDzYg",
      "include_colab_link": true
    },
    "kernelspec": {
      "name": "ir",
      "display_name": "R"
    },
    "language_info": {
      "name": "R"
    }
  },
  "cells": [
    {
      "cell_type": "markdown",
      "metadata": {
        "id": "view-in-github",
        "colab_type": "text"
      },
      "source": [
        "<a href=\"https://colab.research.google.com/github/Mannish2012/Visualizing-EIA-Data/blob/main/Assignment5.ipynb\" target=\"_parent\"><img src=\"https://colab.research.google.com/assets/colab-badge.svg\" alt=\"Open In Colab\"/></a>"
      ]
    },
    {
      "cell_type": "code",
      "execution_count": 19,
      "metadata": {
        "colab": {
          "base_uri": "https://localhost:8080/"
        },
        "id": "zgez_giIprwK",
        "outputId": "c64357f8-6db9-4493-9616-6665ff4a8ef4"
      },
      "outputs": [
        {
          "output_type": "stream",
          "name": "stderr",
          "text": [
            "\n",
            "Attaching package: ‘huxtable’\n",
            "\n",
            "\n",
            "The following object is masked from ‘package:dplyr’:\n",
            "\n",
            "    add_rownames\n",
            "\n",
            "\n"
          ]
        }
      ],
      "source": [
        "#library(dplyr)\n",
        "library(huxtable)"
      ]
    },
    {
      "cell_type": "code",
      "source": [
        " a <- matrix(c(0,1,1,0,0,\n",
        "              c(1,rep(0,4)),\n",
        "              rep(0,5),\n",
        "              rep(0,5),\n",
        "              c(rep(0,3),1,0)),5,5) -> a0"
      ],
      "metadata": {
        "id": "YegkdAlXp7Rr"
      },
      "execution_count": 65,
      "outputs": []
    },
    {
      "cell_type": "markdown",
      "source": [
        "Get the matrix in echelon form"
      ],
      "metadata": {
        "id": "ULbzhWty0a9O"
      }
    },
    {
      "cell_type": "code",
      "source": [
        "as_hux(a0)"
      ],
      "metadata": {
        "colab": {
          "base_uri": "https://localhost:8080/",
          "height": 254
        },
        "id": "zAC-llHY0dyf",
        "outputId": "54e6eec5-70af-4070-840b-b6bca9a5bd07"
      },
      "execution_count": 66,
      "outputs": [
        {
          "output_type": "display_data",
          "data": {
            "text/html": [
              "<table class=\"dataframe\">\n",
              "<caption>A huxtable: 5 × 5</caption>\n",
              "<thead>\n",
              "\t<tr><th scope=col>V1</th><th scope=col>V2</th><th scope=col>V3</th><th scope=col>V4</th><th scope=col>V5</th></tr>\n",
              "\t<tr><th scope=col>&lt;dbl&gt;</th><th scope=col>&lt;dbl&gt;</th><th scope=col>&lt;dbl&gt;</th><th scope=col>&lt;dbl&gt;</th><th scope=col>&lt;dbl&gt;</th></tr>\n",
              "</thead>\n",
              "<tbody>\n",
              "\t<tr><td>0</td><td>1</td><td>0</td><td>0</td><td>0</td></tr>\n",
              "\t<tr><td>1</td><td>0</td><td>0</td><td>0</td><td>0</td></tr>\n",
              "\t<tr><td>1</td><td>0</td><td>0</td><td>0</td><td>0</td></tr>\n",
              "\t<tr><td>0</td><td>0</td><td>0</td><td>0</td><td>1</td></tr>\n",
              "\t<tr><td>0</td><td>0</td><td>0</td><td>0</td><td>0</td></tr>\n",
              "</tbody>\n",
              "</table>\n"
            ],
            "text/markdown": "\nA huxtable: 5 × 5\n\n| V1 &lt;dbl&gt; | V2 &lt;dbl&gt; | V3 &lt;dbl&gt; | V4 &lt;dbl&gt; | V5 &lt;dbl&gt; |\n|---|---|---|---|---|\n| 0 | 1 | 0 | 0 | 0 |\n| 1 | 0 | 0 | 0 | 0 |\n| 1 | 0 | 0 | 0 | 0 |\n| 0 | 0 | 0 | 0 | 1 |\n| 0 | 0 | 0 | 0 | 0 |\n\n",
            "text/latex": "A huxtable: 5 × 5\n\\begin{tabular}{lllll}\n V1 & V2 & V3 & V4 & V5\\\\\n <dbl> & <dbl> & <dbl> & <dbl> & <dbl>\\\\\n\\hline\n\t 0 & 1 & 0 & 0 & 0\\\\\n\t 1 & 0 & 0 & 0 & 0\\\\\n\t 1 & 0 & 0 & 0 & 0\\\\\n\t 0 & 0 & 0 & 0 & 1\\\\\n\t 0 & 0 & 0 & 0 & 0\\\\\n\\end{tabular}\n",
            "text/plain": [
              "  V1 V2 V3 V4 V5\n",
              "1 0  1  0  0  0 \n",
              "2 1  0  0  0  0 \n",
              "3 1  0  0  0  0 \n",
              "4 0  0  0  0  1 \n",
              "5 0  0  0  0  0 "
            ]
          },
          "metadata": {}
        }
      ]
    },
    {
      "cell_type": "markdown",
      "source": [
        "In the above matrix, two columns (the third and fourth) are unnecessary, so we remove them. We also remove the last row. To this matrix, append a column of zeros to create the augmented matrix."
      ],
      "metadata": {
        "id": "qCee5liAYyMZ"
      }
    },
    {
      "cell_type": "code",
      "source": [],
      "metadata": {
        "id": "Ylyf9Ig7ZYgt"
      },
      "execution_count": null,
      "outputs": []
    },
    {
      "cell_type": "code",
      "source": [
        "a_aug <- a0[-5,-c(3,4)] |> cbind(rep(0,4))\n",
        "as_hux(a_aug)"
      ],
      "metadata": {
        "colab": {
          "base_uri": "https://localhost:8080/",
          "height": 223
        },
        "id": "3d1s-iDAY5cw",
        "outputId": "45ab04b2-489d-42a1-8286-8b9d5dda2a96"
      },
      "execution_count": 88,
      "outputs": [
        {
          "output_type": "display_data",
          "data": {
            "text/html": [
              "<table class=\"dataframe\">\n",
              "<caption>A huxtable: 4 × 4</caption>\n",
              "<thead>\n",
              "\t<tr><th scope=col>V1</th><th scope=col>V2</th><th scope=col>V3</th><th scope=col>V4</th></tr>\n",
              "\t<tr><th scope=col>&lt;dbl&gt;</th><th scope=col>&lt;dbl&gt;</th><th scope=col>&lt;dbl&gt;</th><th scope=col>&lt;dbl&gt;</th></tr>\n",
              "</thead>\n",
              "<tbody>\n",
              "\t<tr><td>0</td><td>1</td><td>0</td><td>0</td></tr>\n",
              "\t<tr><td>1</td><td>0</td><td>0</td><td>0</td></tr>\n",
              "\t<tr><td>1</td><td>0</td><td>0</td><td>0</td></tr>\n",
              "\t<tr><td>0</td><td>0</td><td>1</td><td>0</td></tr>\n",
              "</tbody>\n",
              "</table>\n"
            ],
            "text/markdown": "\nA huxtable: 4 × 4\n\n| V1 &lt;dbl&gt; | V2 &lt;dbl&gt; | V3 &lt;dbl&gt; | V4 &lt;dbl&gt; |\n|---|---|---|---|\n| 0 | 1 | 0 | 0 |\n| 1 | 0 | 0 | 0 |\n| 1 | 0 | 0 | 0 |\n| 0 | 0 | 1 | 0 |\n\n",
            "text/latex": "A huxtable: 4 × 4\n\\begin{tabular}{llll}\n V1 & V2 & V3 & V4\\\\\n <dbl> & <dbl> & <dbl> & <dbl>\\\\\n\\hline\n\t 0 & 1 & 0 & 0\\\\\n\t 1 & 0 & 0 & 0\\\\\n\t 1 & 0 & 0 & 0\\\\\n\t 0 & 0 & 1 & 0\\\\\n\\end{tabular}\n",
            "text/plain": [
              "  V1 V2 V3 V4\n",
              "1 0  1  0  0 \n",
              "2 1  0  0  0 \n",
              "3 1  0  0  0 \n",
              "4 0  0  1  0 "
            ]
          },
          "metadata": {}
        }
      ]
    },
    {
      "cell_type": "markdown",
      "source": [
        "Now the get the matrix in rref."
      ],
      "metadata": {
        "id": "HMA1LlqQbvL4"
      }
    },
    {
      "cell_type": "markdown",
      "source": [],
      "metadata": {
        "id": "aEwrRWZDaFrS"
      }
    },
    {
      "cell_type": "code",
      "source": [
        "a2 = a_aug[c(2,3,1,4),]; as_hux(a2)\n"
      ],
      "metadata": {
        "colab": {
          "base_uri": "https://localhost:8080/",
          "height": 223
        },
        "id": "5qEBWm46Zo9O",
        "outputId": "1c20887e-4425-4cd1-bccd-929c91bab420"
      },
      "execution_count": 89,
      "outputs": [
        {
          "output_type": "display_data",
          "data": {
            "text/html": [
              "<table class=\"dataframe\">\n",
              "<caption>A huxtable: 4 × 4</caption>\n",
              "<thead>\n",
              "\t<tr><th scope=col>V1</th><th scope=col>V2</th><th scope=col>V3</th><th scope=col>V4</th></tr>\n",
              "\t<tr><th scope=col>&lt;dbl&gt;</th><th scope=col>&lt;dbl&gt;</th><th scope=col>&lt;dbl&gt;</th><th scope=col>&lt;dbl&gt;</th></tr>\n",
              "</thead>\n",
              "<tbody>\n",
              "\t<tr><td>1</td><td>0</td><td>0</td><td>0</td></tr>\n",
              "\t<tr><td>1</td><td>0</td><td>0</td><td>0</td></tr>\n",
              "\t<tr><td>0</td><td>1</td><td>0</td><td>0</td></tr>\n",
              "\t<tr><td>0</td><td>0</td><td>1</td><td>0</td></tr>\n",
              "</tbody>\n",
              "</table>\n"
            ],
            "text/markdown": "\nA huxtable: 4 × 4\n\n| V1 &lt;dbl&gt; | V2 &lt;dbl&gt; | V3 &lt;dbl&gt; | V4 &lt;dbl&gt; |\n|---|---|---|---|\n| 1 | 0 | 0 | 0 |\n| 1 | 0 | 0 | 0 |\n| 0 | 1 | 0 | 0 |\n| 0 | 0 | 1 | 0 |\n\n",
            "text/latex": "A huxtable: 4 × 4\n\\begin{tabular}{llll}\n V1 & V2 & V3 & V4\\\\\n <dbl> & <dbl> & <dbl> & <dbl>\\\\\n\\hline\n\t 1 & 0 & 0 & 0\\\\\n\t 1 & 0 & 0 & 0\\\\\n\t 0 & 1 & 0 & 0\\\\\n\t 0 & 0 & 1 & 0\\\\\n\\end{tabular}\n",
            "text/plain": [
              "  V1 V2 V3 V4\n",
              "1 1  0  0  0 \n",
              "2 1  0  0  0 \n",
              "3 0  1  0  0 \n",
              "4 0  0  1  0 "
            ]
          },
          "metadata": {}
        }
      ]
    },
    {
      "cell_type": "code",
      "source": [
        "# forward pass, col 1\n",
        "a2[2,] <- a2[1,] - a2[2,]\n",
        "as_hux(a2)"
      ],
      "metadata": {
        "colab": {
          "base_uri": "https://localhost:8080/",
          "height": 223
        },
        "id": "OvKC2mircesD",
        "outputId": "784e8369-3d46-4288-c42a-5081a88155fd"
      },
      "execution_count": 90,
      "outputs": [
        {
          "output_type": "display_data",
          "data": {
            "text/html": [
              "<table class=\"dataframe\">\n",
              "<caption>A huxtable: 4 × 4</caption>\n",
              "<thead>\n",
              "\t<tr><th scope=col>V1</th><th scope=col>V2</th><th scope=col>V3</th><th scope=col>V4</th></tr>\n",
              "\t<tr><th scope=col>&lt;dbl&gt;</th><th scope=col>&lt;dbl&gt;</th><th scope=col>&lt;dbl&gt;</th><th scope=col>&lt;dbl&gt;</th></tr>\n",
              "</thead>\n",
              "<tbody>\n",
              "\t<tr><td>1</td><td>0</td><td>0</td><td>0</td></tr>\n",
              "\t<tr><td>0</td><td>0</td><td>0</td><td>0</td></tr>\n",
              "\t<tr><td>0</td><td>1</td><td>0</td><td>0</td></tr>\n",
              "\t<tr><td>0</td><td>0</td><td>1</td><td>0</td></tr>\n",
              "</tbody>\n",
              "</table>\n"
            ],
            "text/markdown": "\nA huxtable: 4 × 4\n\n| V1 &lt;dbl&gt; | V2 &lt;dbl&gt; | V3 &lt;dbl&gt; | V4 &lt;dbl&gt; |\n|---|---|---|---|\n| 1 | 0 | 0 | 0 |\n| 0 | 0 | 0 | 0 |\n| 0 | 1 | 0 | 0 |\n| 0 | 0 | 1 | 0 |\n\n",
            "text/latex": "A huxtable: 4 × 4\n\\begin{tabular}{llll}\n V1 & V2 & V3 & V4\\\\\n <dbl> & <dbl> & <dbl> & <dbl>\\\\\n\\hline\n\t 1 & 0 & 0 & 0\\\\\n\t 0 & 0 & 0 & 0\\\\\n\t 0 & 1 & 0 & 0\\\\\n\t 0 & 0 & 1 & 0\\\\\n\\end{tabular}\n",
            "text/plain": [
              "  V1 V2 V3 V4\n",
              "1 1  0  0  0 \n",
              "2 0  0  0  0 \n",
              "3 0  1  0  0 \n",
              "4 0  0  1  0 "
            ]
          },
          "metadata": {}
        }
      ]
    },
    {
      "cell_type": "code",
      "source": [
        "# rearrange\n",
        "a2[c(1,3,4,2),] |> as_hux()\n"
      ],
      "metadata": {
        "colab": {
          "base_uri": "https://localhost:8080/",
          "height": 223
        },
        "id": "KItlTrkwcPPa",
        "outputId": "fa5af262-bbb6-47e4-be5c-0ede59fbaaf2"
      },
      "execution_count": 92,
      "outputs": [
        {
          "output_type": "display_data",
          "data": {
            "text/html": [
              "<table class=\"dataframe\">\n",
              "<caption>A huxtable: 4 × 4</caption>\n",
              "<thead>\n",
              "\t<tr><th scope=col>V1</th><th scope=col>V2</th><th scope=col>V3</th><th scope=col>V4</th></tr>\n",
              "\t<tr><th scope=col>&lt;dbl&gt;</th><th scope=col>&lt;dbl&gt;</th><th scope=col>&lt;dbl&gt;</th><th scope=col>&lt;dbl&gt;</th></tr>\n",
              "</thead>\n",
              "<tbody>\n",
              "\t<tr><td>1</td><td>0</td><td>0</td><td>0</td></tr>\n",
              "\t<tr><td>0</td><td>1</td><td>0</td><td>0</td></tr>\n",
              "\t<tr><td>0</td><td>0</td><td>1</td><td>0</td></tr>\n",
              "\t<tr><td>0</td><td>0</td><td>0</td><td>0</td></tr>\n",
              "</tbody>\n",
              "</table>\n"
            ],
            "text/markdown": "\nA huxtable: 4 × 4\n\n| V1 &lt;dbl&gt; | V2 &lt;dbl&gt; | V3 &lt;dbl&gt; | V4 &lt;dbl&gt; |\n|---|---|---|---|\n| 1 | 0 | 0 | 0 |\n| 0 | 1 | 0 | 0 |\n| 0 | 0 | 1 | 0 |\n| 0 | 0 | 0 | 0 |\n\n",
            "text/latex": "A huxtable: 4 × 4\n\\begin{tabular}{llll}\n V1 & V2 & V3 & V4\\\\\n <dbl> & <dbl> & <dbl> & <dbl>\\\\\n\\hline\n\t 1 & 0 & 0 & 0\\\\\n\t 0 & 1 & 0 & 0\\\\\n\t 0 & 0 & 1 & 0\\\\\n\t 0 & 0 & 0 & 0\\\\\n\\end{tabular}\n",
            "text/plain": [
              "  V1 V2 V3 V4\n",
              "1 1  0  0  0 \n",
              "2 0  1  0  0 \n",
              "3 0  0  1  0 \n",
              "4 0  0  0  0 "
            ]
          },
          "metadata": {}
        }
      ]
    },
    {
      "cell_type": "code",
      "source": [],
      "metadata": {
        "id": "KWMzS3HEc_v9"
      },
      "execution_count": null,
      "outputs": []
    },
    {
      "cell_type": "markdown",
      "source": [
        "Question 9"
      ],
      "metadata": {
        "id": "2c6sUYVvfRoT"
      }
    },
    {
      "cell_type": "code",
      "source": [
        "m <- matrix(c(\n",
        "  0,1,0,0,0,\n",
        "  0,1,0,0,0,\n",
        "  1,0,0,0,0,\n",
        "  1,0,0,0,0,\n",
        "  0,0,1,0,0\n",
        "),5,5, byrow = TRUE,\n",
        "dimnames = list(c(\"Shubam\",\"Poulami\", \"Asrifa\", \"Rafeal\",\"Vicky\"),\n",
        "                c(\"1 star\", \"2 star\", \"3 star\", \"4 star\", \"5 star\")))\n",
        "as_hux(m)"
      ],
      "metadata": {
        "colab": {
          "base_uri": "https://localhost:8080/",
          "height": 254
        },
        "id": "JLZjAEwTfZBd",
        "outputId": "eae59c33-2d86-43d3-ba03-ad7edf2f5baa"
      },
      "execution_count": 96,
      "outputs": [
        {
          "output_type": "display_data",
          "data": {
            "text/html": [
              "<table class=\"dataframe\">\n",
              "<caption>A huxtable: 5 × 5</caption>\n",
              "<thead>\n",
              "\t<tr><th></th><th scope=col>1 star</th><th scope=col>2 star</th><th scope=col>3 star</th><th scope=col>4 star</th><th scope=col>5 star</th></tr>\n",
              "\t<tr><th></th><th scope=col>&lt;dbl&gt;</th><th scope=col>&lt;dbl&gt;</th><th scope=col>&lt;dbl&gt;</th><th scope=col>&lt;dbl&gt;</th><th scope=col>&lt;dbl&gt;</th></tr>\n",
              "</thead>\n",
              "<tbody>\n",
              "\t<tr><th scope=row>Shubam</th><td>0</td><td>1</td><td>0</td><td>0</td><td>0</td></tr>\n",
              "\t<tr><th scope=row>Poulami</th><td>0</td><td>1</td><td>0</td><td>0</td><td>0</td></tr>\n",
              "\t<tr><th scope=row>Asrifa</th><td>1</td><td>0</td><td>0</td><td>0</td><td>0</td></tr>\n",
              "\t<tr><th scope=row>Rafeal</th><td>1</td><td>0</td><td>0</td><td>0</td><td>0</td></tr>\n",
              "\t<tr><th scope=row>Vicky</th><td>0</td><td>0</td><td>1</td><td>0</td><td>0</td></tr>\n",
              "</tbody>\n",
              "</table>\n"
            ],
            "text/markdown": "\nA huxtable: 5 × 5\n\n| <!--/--> | 1 star &lt;dbl&gt; | 2 star &lt;dbl&gt; | 3 star &lt;dbl&gt; | 4 star &lt;dbl&gt; | 5 star &lt;dbl&gt; |\n|---|---|---|---|---|---|\n| Shubam | 0 | 1 | 0 | 0 | 0 |\n| Poulami | 0 | 1 | 0 | 0 | 0 |\n| Asrifa | 1 | 0 | 0 | 0 | 0 |\n| Rafeal | 1 | 0 | 0 | 0 | 0 |\n| Vicky | 0 | 0 | 1 | 0 | 0 |\n\n",
            "text/latex": "A huxtable: 5 × 5\n\\begin{tabular}{r|lllll}\n  & 1 star & 2 star & 3 star & 4 star & 5 star\\\\\n  & <dbl> & <dbl> & <dbl> & <dbl> & <dbl>\\\\\n\\hline\n\tShubam & 0 & 1 & 0 & 0 & 0\\\\\n\tPoulami & 0 & 1 & 0 & 0 & 0\\\\\n\tAsrifa & 1 & 0 & 0 & 0 & 0\\\\\n\tRafeal & 1 & 0 & 0 & 0 & 0\\\\\n\tVicky & 0 & 0 & 1 & 0 & 0\\\\\n\\end{tabular}\n",
            "text/plain": [
              "        1 star 2 star 3 star 4 star 5 star\n",
              "Shubam  0      1      0      0      0     \n",
              "Poulami 0      1      0      0      0     \n",
              "Asrifa  1      0      0      0      0     \n",
              "Rafeal  1      0      0      0      0     \n",
              "Vicky   0      0      1      0      0     "
            ]
          },
          "metadata": {}
        }
      ]
    },
    {
      "cell_type": "code",
      "source": [],
      "metadata": {
        "id": "QF616wjmgmn3"
      },
      "execution_count": null,
      "outputs": []
    },
    {
      "cell_type": "markdown",
      "source": [
        "Question 7"
      ],
      "metadata": {
        "id": "eBaPPJZfiLJw"
      }
    },
    {
      "cell_type": "code",
      "source": [
        "a7 <- matrix(c(5,0,4,0,\n",
        "            2,1,0,0,\n",
        "            0,0,5,0,\n",
        "            rep(0,4)),4,4) -> a7_0\n",
        "as_hux(a7_0)"
      ],
      "metadata": {
        "colab": {
          "base_uri": "https://localhost:8080/",
          "height": 223
        },
        "id": "rResAs1ygjYz",
        "outputId": "4bd091a8-af87-4a60-d067-a9921e82fdf8"
      },
      "execution_count": 100,
      "outputs": [
        {
          "output_type": "display_data",
          "data": {
            "text/html": [
              "<table class=\"dataframe\">\n",
              "<caption>A huxtable: 4 × 4</caption>\n",
              "<thead>\n",
              "\t<tr><th scope=col>V1</th><th scope=col>V2</th><th scope=col>V3</th><th scope=col>V4</th></tr>\n",
              "\t<tr><th scope=col>&lt;dbl&gt;</th><th scope=col>&lt;dbl&gt;</th><th scope=col>&lt;dbl&gt;</th><th scope=col>&lt;dbl&gt;</th></tr>\n",
              "</thead>\n",
              "<tbody>\n",
              "\t<tr><td>5</td><td>2</td><td>0</td><td>0</td></tr>\n",
              "\t<tr><td>0</td><td>1</td><td>0</td><td>0</td></tr>\n",
              "\t<tr><td>4</td><td>0</td><td>5</td><td>0</td></tr>\n",
              "\t<tr><td>0</td><td>0</td><td>0</td><td>0</td></tr>\n",
              "</tbody>\n",
              "</table>\n"
            ],
            "text/markdown": "\nA huxtable: 4 × 4\n\n| V1 &lt;dbl&gt; | V2 &lt;dbl&gt; | V3 &lt;dbl&gt; | V4 &lt;dbl&gt; |\n|---|---|---|---|\n| 5 | 2 | 0 | 0 |\n| 0 | 1 | 0 | 0 |\n| 4 | 0 | 5 | 0 |\n| 0 | 0 | 0 | 0 |\n\n",
            "text/latex": "A huxtable: 4 × 4\n\\begin{tabular}{llll}\n V1 & V2 & V3 & V4\\\\\n <dbl> & <dbl> & <dbl> & <dbl>\\\\\n\\hline\n\t 5 & 2 & 0 & 0\\\\\n\t 0 & 1 & 0 & 0\\\\\n\t 4 & 0 & 5 & 0\\\\\n\t 0 & 0 & 0 & 0\\\\\n\\end{tabular}\n",
            "text/plain": [
              "  V1 V2 V3 V4\n",
              "1 5  2  0  0 \n",
              "2 0  1  0  0 \n",
              "3 4  0  5  0 \n",
              "4 0  0  0  0 "
            ]
          },
          "metadata": {}
        }
      ]
    },
    {
      "cell_type": "code",
      "source": [
        "a7 <- a7_0[c(1,3,2,4),]; as_hux(a7)"
      ],
      "metadata": {
        "colab": {
          "base_uri": "https://localhost:8080/",
          "height": 223
        },
        "id": "_NGNlDYeilxe",
        "outputId": "03285d96-8bc5-425e-9fee-0b46ada396d9"
      },
      "execution_count": 116,
      "outputs": [
        {
          "output_type": "display_data",
          "data": {
            "text/html": [
              "<table class=\"dataframe\">\n",
              "<caption>A huxtable: 4 × 4</caption>\n",
              "<thead>\n",
              "\t<tr><th scope=col>V1</th><th scope=col>V2</th><th scope=col>V3</th><th scope=col>V4</th></tr>\n",
              "\t<tr><th scope=col>&lt;dbl&gt;</th><th scope=col>&lt;dbl&gt;</th><th scope=col>&lt;dbl&gt;</th><th scope=col>&lt;dbl&gt;</th></tr>\n",
              "</thead>\n",
              "<tbody>\n",
              "\t<tr><td>5</td><td>2</td><td>0</td><td>0</td></tr>\n",
              "\t<tr><td>4</td><td>0</td><td>5</td><td>0</td></tr>\n",
              "\t<tr><td>0</td><td>1</td><td>0</td><td>0</td></tr>\n",
              "\t<tr><td>0</td><td>0</td><td>0</td><td>0</td></tr>\n",
              "</tbody>\n",
              "</table>\n"
            ],
            "text/markdown": "\nA huxtable: 4 × 4\n\n| V1 &lt;dbl&gt; | V2 &lt;dbl&gt; | V3 &lt;dbl&gt; | V4 &lt;dbl&gt; |\n|---|---|---|---|\n| 5 | 2 | 0 | 0 |\n| 4 | 0 | 5 | 0 |\n| 0 | 1 | 0 | 0 |\n| 0 | 0 | 0 | 0 |\n\n",
            "text/latex": "A huxtable: 4 × 4\n\\begin{tabular}{llll}\n V1 & V2 & V3 & V4\\\\\n <dbl> & <dbl> & <dbl> & <dbl>\\\\\n\\hline\n\t 5 & 2 & 0 & 0\\\\\n\t 4 & 0 & 5 & 0\\\\\n\t 0 & 1 & 0 & 0\\\\\n\t 0 & 0 & 0 & 0\\\\\n\\end{tabular}\n",
            "text/plain": [
              "  V1 V2 V3 V4\n",
              "1 5  2  0  0 \n",
              "2 4  0  5  0 \n",
              "3 0  1  0  0 \n",
              "4 0  0  0  0 "
            ]
          },
          "metadata": {}
        }
      ]
    },
    {
      "cell_type": "code",
      "source": [
        "a7 = rbind(a7[1,], 4*a7[1,] - 5*a7[2,], a7[3:4,])\n",
        "a7"
      ],
      "metadata": {
        "colab": {
          "base_uri": "https://localhost:8080/",
          "height": 177
        },
        "id": "wkYdx_ZnjAu_",
        "outputId": "2803bdcd-0056-4ce7-e0c4-c8bc8c68ea7e"
      },
      "execution_count": 117,
      "outputs": [
        {
          "output_type": "display_data",
          "data": {
            "text/html": [
              "<table class=\"dataframe\">\n",
              "<caption>A matrix: 4 × 4 of type dbl</caption>\n",
              "<tbody>\n",
              "\t<tr><td>5</td><td>2</td><td>  0</td><td>0</td></tr>\n",
              "\t<tr><td>0</td><td>8</td><td>-25</td><td>0</td></tr>\n",
              "\t<tr><td>0</td><td>1</td><td>  0</td><td>0</td></tr>\n",
              "\t<tr><td>0</td><td>0</td><td>  0</td><td>0</td></tr>\n",
              "</tbody>\n",
              "</table>\n"
            ],
            "text/markdown": "\nA matrix: 4 × 4 of type dbl\n\n| 5 | 2 |   0 | 0 |\n| 0 | 8 | -25 | 0 |\n| 0 | 1 |   0 | 0 |\n| 0 | 0 |   0 | 0 |\n\n",
            "text/latex": "A matrix: 4 × 4 of type dbl\n\\begin{tabular}{llll}\n\t 5 & 2 &   0 & 0\\\\\n\t 0 & 8 & -25 & 0\\\\\n\t 0 & 1 &   0 & 0\\\\\n\t 0 & 0 &   0 & 0\\\\\n\\end{tabular}\n",
            "text/plain": [
              "     [,1] [,2] [,3] [,4]\n",
              "[1,] 5    2      0  0   \n",
              "[2,] 0    8    -25  0   \n",
              "[3,] 0    1      0  0   \n",
              "[4,] 0    0      0  0   "
            ]
          },
          "metadata": {}
        }
      ]
    },
    {
      "cell_type": "code",
      "source": [
        "a7 = rbind(a7[1:2,], a7[2,] - 8*a7[3,], a7[4,])\n",
        "a7"
      ],
      "metadata": {
        "colab": {
          "base_uri": "https://localhost:8080/",
          "height": 177
        },
        "id": "B9mEP2_skqhG",
        "outputId": "d8c1de64-0eb5-4c40-ec1c-0fe4d25c3cf7"
      },
      "execution_count": 118,
      "outputs": [
        {
          "output_type": "display_data",
          "data": {
            "text/html": [
              "<table class=\"dataframe\">\n",
              "<caption>A matrix: 4 × 4 of type dbl</caption>\n",
              "<tbody>\n",
              "\t<tr><td>5</td><td>2</td><td>  0</td><td>0</td></tr>\n",
              "\t<tr><td>0</td><td>8</td><td>-25</td><td>0</td></tr>\n",
              "\t<tr><td>0</td><td>0</td><td>-25</td><td>0</td></tr>\n",
              "\t<tr><td>0</td><td>0</td><td>  0</td><td>0</td></tr>\n",
              "</tbody>\n",
              "</table>\n"
            ],
            "text/markdown": "\nA matrix: 4 × 4 of type dbl\n\n| 5 | 2 |   0 | 0 |\n| 0 | 8 | -25 | 0 |\n| 0 | 0 | -25 | 0 |\n| 0 | 0 |   0 | 0 |\n\n",
            "text/latex": "A matrix: 4 × 4 of type dbl\n\\begin{tabular}{llll}\n\t 5 & 2 &   0 & 0\\\\\n\t 0 & 8 & -25 & 0\\\\\n\t 0 & 0 & -25 & 0\\\\\n\t 0 & 0 &   0 & 0\\\\\n\\end{tabular}\n",
            "text/plain": [
              "     [,1] [,2] [,3] [,4]\n",
              "[1,] 5    2      0  0   \n",
              "[2,] 0    8    -25  0   \n",
              "[3,] 0    0    -25  0   \n",
              "[4,] 0    0      0  0   "
            ]
          },
          "metadata": {}
        }
      ]
    },
    {
      "cell_type": "code",
      "source": [
        "#a7 = sweep(a7,1,c(5,8,-25,1),\"/\")\n",
        "as_hux(a7)"
      ],
      "metadata": {
        "colab": {
          "base_uri": "https://localhost:8080/",
          "height": 223
        },
        "id": "wNWRIHgnk2gi",
        "outputId": "d2f4e53b-e8a6-433b-ca2c-7fad14a7de83"
      },
      "execution_count": 120,
      "outputs": [
        {
          "output_type": "display_data",
          "data": {
            "text/html": [
              "<table class=\"dataframe\">\n",
              "<caption>A huxtable: 4 × 4</caption>\n",
              "<thead>\n",
              "\t<tr><th scope=col>V1</th><th scope=col>V2</th><th scope=col>V3</th><th scope=col>V4</th></tr>\n",
              "\t<tr><th scope=col>&lt;dbl&gt;</th><th scope=col>&lt;dbl&gt;</th><th scope=col>&lt;dbl&gt;</th><th scope=col>&lt;dbl&gt;</th></tr>\n",
              "</thead>\n",
              "<tbody>\n",
              "\t<tr><td>1</td><td>0.4</td><td> 0.000</td><td>0</td></tr>\n",
              "\t<tr><td>0</td><td>1.0</td><td>-3.125</td><td>0</td></tr>\n",
              "\t<tr><td>0</td><td>0.0</td><td> 1.000</td><td>0</td></tr>\n",
              "\t<tr><td>0</td><td>0.0</td><td> 0.000</td><td>0</td></tr>\n",
              "</tbody>\n",
              "</table>\n"
            ],
            "text/markdown": "\nA huxtable: 4 × 4\n\n| V1 &lt;dbl&gt; | V2 &lt;dbl&gt; | V3 &lt;dbl&gt; | V4 &lt;dbl&gt; |\n|---|---|---|---|\n| 1 | 0.4 |  0.000 | 0 |\n| 0 | 1.0 | -3.125 | 0 |\n| 0 | 0.0 |  1.000 | 0 |\n| 0 | 0.0 |  0.000 | 0 |\n\n",
            "text/latex": "A huxtable: 4 × 4\n\\begin{tabular}{llll}\n V1 & V2 & V3 & V4\\\\\n <dbl> & <dbl> & <dbl> & <dbl>\\\\\n\\hline\n\t 1 & 0.4 &  0.000 & 0\\\\\n\t 0 & 1.0 & -3.125 & 0\\\\\n\t 0 & 0.0 &  1.000 & 0\\\\\n\t 0 & 0.0 &  0.000 & 0\\\\\n\\end{tabular}\n",
            "text/plain": [
              "  V1 V2  V3     V4\n",
              "1 1  0.4  0.000 0 \n",
              "2 0  1.0 -3.125 0 \n",
              "3 0  0.0  1.000 0 \n",
              "4 0  0.0  0.000 0 "
            ]
          },
          "metadata": {}
        }
      ]
    },
    {
      "cell_type": "markdown",
      "source": [
        "In the above matrix $x_1 = -0.4x_2$, $x_2 = 3.125x_3$, $x_3 = 0$, which implies that all values are zero."
      ],
      "metadata": {
        "id": "4aPOFGEQmqXB"
      }
    },
    {
      "cell_type": "markdown",
      "source": [
        "An explicit description of Nul A"
      ],
      "metadata": {
        "id": "0YNYGFR5OXuq"
      }
    },
    {
      "cell_type": "code",
      "source": [
        "a <- matrix(c(\n",
        "  -3,6,-1,1,-7,\n",
        "  1,-2,2,3,-1,\n",
        "  2,-4,5,8,-4\n",
        "),3,5, byrow=T) -> a0\n",
        "\n",
        "# reduce a to rref\n",
        "\n",
        "a <- a0[c(1,3,2),]\n",
        "a <- rbind(a[1,], 2*a[1,] + 3*a[2,], a[1,] + 3*a[3,])\n",
        "a"
      ],
      "metadata": {
        "colab": {
          "base_uri": "https://localhost:8080/",
          "height": 146
        },
        "id": "KLlTwuNuE8_J",
        "outputId": "87e1282e-8a66-4ca6-a7a0-90e8def336af"
      },
      "execution_count": 18,
      "outputs": [
        {
          "output_type": "display_data",
          "data": {
            "text/html": [
              "<table class=\"dataframe\">\n",
              "<caption>A matrix: 3 × 5 of type dbl</caption>\n",
              "<tbody>\n",
              "\t<tr><td>-3</td><td>6</td><td>-1</td><td> 1</td><td> -7</td></tr>\n",
              "\t<tr><td> 0</td><td>0</td><td>13</td><td>26</td><td>-26</td></tr>\n",
              "\t<tr><td> 0</td><td>0</td><td> 5</td><td>10</td><td>-10</td></tr>\n",
              "</tbody>\n",
              "</table>\n"
            ],
            "text/markdown": "\nA matrix: 3 × 5 of type dbl\n\n| -3 | 6 | -1 |  1 |  -7 |\n|  0 | 0 | 13 | 26 | -26 |\n|  0 | 0 |  5 | 10 | -10 |\n\n",
            "text/latex": "A matrix: 3 × 5 of type dbl\n\\begin{tabular}{lllll}\n\t -3 & 6 & -1 &  1 &  -7\\\\\n\t  0 & 0 & 13 & 26 & -26\\\\\n\t  0 & 0 &  5 & 10 & -10\\\\\n\\end{tabular}\n",
            "text/plain": [
              "     [,1] [,2] [,3] [,4] [,5]\n",
              "[1,] -3   6    -1    1    -7 \n",
              "[2,]  0   0    13   26   -26 \n",
              "[3,]  0   0     5   10   -10 "
            ]
          },
          "metadata": {}
        }
      ]
    },
    {
      "cell_type": "code",
      "source": [],
      "metadata": {
        "id": "qAPuhs8vPgJS"
      },
      "execution_count": null,
      "outputs": []
    },
    {
      "cell_type": "code",
      "source": [],
      "metadata": {
        "id": "k_yOuwTpPS-p"
      },
      "execution_count": null,
      "outputs": []
    },
    {
      "cell_type": "code",
      "source": [],
      "metadata": {
        "id": "BbNqoJJiO9kM"
      },
      "execution_count": null,
      "outputs": []
    },
    {
      "cell_type": "code",
      "source": [],
      "metadata": {
        "id": "_tqstPTSO5OX"
      },
      "execution_count": null,
      "outputs": []
    },
    {
      "cell_type": "code",
      "source": [],
      "metadata": {
        "id": "EHfpmVg6O0NM"
      },
      "execution_count": null,
      "outputs": []
    },
    {
      "cell_type": "code",
      "source": [],
      "metadata": {
        "id": "scRuRpfWOwIX"
      },
      "execution_count": null,
      "outputs": []
    },
    {
      "cell_type": "code",
      "source": [],
      "metadata": {
        "id": "60xN-eHEIh9u"
      },
      "execution_count": null,
      "outputs": []
    },
    {
      "cell_type": "code",
      "source": [],
      "metadata": {
        "id": "IYMy8Bi5GiSI"
      },
      "execution_count": null,
      "outputs": []
    },
    {
      "cell_type": "code",
      "source": [],
      "metadata": {
        "id": "Q6JC0UtlGVSe"
      },
      "execution_count": null,
      "outputs": []
    },
    {
      "cell_type": "code",
      "source": [],
      "metadata": {
        "id": "roL-600fGR4L"
      },
      "execution_count": null,
      "outputs": []
    },
    {
      "cell_type": "code",
      "source": [],
      "metadata": {
        "id": "JAP2WuOwGM8G"
      },
      "execution_count": null,
      "outputs": []
    },
    {
      "cell_type": "code",
      "source": [],
      "metadata": {
        "id": "GMwQ0NWuFXqO"
      },
      "execution_count": null,
      "outputs": []
    },
    {
      "cell_type": "code",
      "source": [],
      "metadata": {
        "id": "yJ_mJwAiE-K4"
      },
      "execution_count": null,
      "outputs": []
    },
    {
      "cell_type": "markdown",
      "source": [
        "Sum #"
      ],
      "metadata": {
        "id": "WZAGz-jAmLnD"
      }
    },
    {
      "cell_type": "code",
      "source": [],
      "metadata": {
        "id": "69ik7eekmN3f"
      },
      "execution_count": null,
      "outputs": []
    },
    {
      "cell_type": "code",
      "source": [
        "a <- a0[c(2,3,1,4,5),]; as_hux(a)"
      ],
      "metadata": {
        "colab": {
          "base_uri": "https://localhost:8080/",
          "height": 254
        },
        "id": "B3Su_1x9KER0",
        "outputId": "1e37e478-c246-47e2-e647-126cd3fa7f63"
      },
      "execution_count": 67,
      "outputs": [
        {
          "output_type": "display_data",
          "data": {
            "text/html": [
              "<table class=\"dataframe\">\n",
              "<caption>A huxtable: 5 × 5</caption>\n",
              "<thead>\n",
              "\t<tr><th scope=col>V1</th><th scope=col>V2</th><th scope=col>V3</th><th scope=col>V4</th><th scope=col>V5</th></tr>\n",
              "\t<tr><th scope=col>&lt;dbl&gt;</th><th scope=col>&lt;dbl&gt;</th><th scope=col>&lt;dbl&gt;</th><th scope=col>&lt;dbl&gt;</th><th scope=col>&lt;dbl&gt;</th></tr>\n",
              "</thead>\n",
              "<tbody>\n",
              "\t<tr><td>1</td><td>0</td><td>0</td><td>0</td><td>0</td></tr>\n",
              "\t<tr><td>1</td><td>0</td><td>0</td><td>0</td><td>0</td></tr>\n",
              "\t<tr><td>0</td><td>1</td><td>0</td><td>0</td><td>0</td></tr>\n",
              "\t<tr><td>0</td><td>0</td><td>0</td><td>0</td><td>1</td></tr>\n",
              "\t<tr><td>0</td><td>0</td><td>0</td><td>0</td><td>0</td></tr>\n",
              "</tbody>\n",
              "</table>\n"
            ],
            "text/markdown": "\nA huxtable: 5 × 5\n\n| V1 &lt;dbl&gt; | V2 &lt;dbl&gt; | V3 &lt;dbl&gt; | V4 &lt;dbl&gt; | V5 &lt;dbl&gt; |\n|---|---|---|---|---|\n| 1 | 0 | 0 | 0 | 0 |\n| 1 | 0 | 0 | 0 | 0 |\n| 0 | 1 | 0 | 0 | 0 |\n| 0 | 0 | 0 | 0 | 1 |\n| 0 | 0 | 0 | 0 | 0 |\n\n",
            "text/latex": "A huxtable: 5 × 5\n\\begin{tabular}{lllll}\n V1 & V2 & V3 & V4 & V5\\\\\n <dbl> & <dbl> & <dbl> & <dbl> & <dbl>\\\\\n\\hline\n\t 1 & 0 & 0 & 0 & 0\\\\\n\t 1 & 0 & 0 & 0 & 0\\\\\n\t 0 & 1 & 0 & 0 & 0\\\\\n\t 0 & 0 & 0 & 0 & 1\\\\\n\t 0 & 0 & 0 & 0 & 0\\\\\n\\end{tabular}\n",
            "text/plain": [
              "  V1 V2 V3 V4 V5\n",
              "1 1  0  0  0  0 \n",
              "2 1  0  0  0  0 \n",
              "3 0  1  0  0  0 \n",
              "4 0  0  0  0  1 \n",
              "5 0  0  0  0  0 "
            ]
          },
          "metadata": {}
        }
      ]
    },
    {
      "cell_type": "code",
      "source": [
        "a[2,] <- a[1,] - a[2,]; as_hux(a) # forward pass on col 1"
      ],
      "metadata": {
        "colab": {
          "base_uri": "https://localhost:8080/",
          "height": 254
        },
        "id": "pKMTGk1WKPEd",
        "outputId": "593fc7dc-6906-4972-86b8-cc86102aad11"
      },
      "execution_count": 68,
      "outputs": [
        {
          "output_type": "display_data",
          "data": {
            "text/html": [
              "<table class=\"dataframe\">\n",
              "<caption>A huxtable: 5 × 5</caption>\n",
              "<thead>\n",
              "\t<tr><th scope=col>V1</th><th scope=col>V2</th><th scope=col>V3</th><th scope=col>V4</th><th scope=col>V5</th></tr>\n",
              "\t<tr><th scope=col>&lt;dbl&gt;</th><th scope=col>&lt;dbl&gt;</th><th scope=col>&lt;dbl&gt;</th><th scope=col>&lt;dbl&gt;</th><th scope=col>&lt;dbl&gt;</th></tr>\n",
              "</thead>\n",
              "<tbody>\n",
              "\t<tr><td>1</td><td>0</td><td>0</td><td>0</td><td>0</td></tr>\n",
              "\t<tr><td>0</td><td>0</td><td>0</td><td>0</td><td>0</td></tr>\n",
              "\t<tr><td>0</td><td>1</td><td>0</td><td>0</td><td>0</td></tr>\n",
              "\t<tr><td>0</td><td>0</td><td>0</td><td>0</td><td>1</td></tr>\n",
              "\t<tr><td>0</td><td>0</td><td>0</td><td>0</td><td>0</td></tr>\n",
              "</tbody>\n",
              "</table>\n"
            ],
            "text/markdown": "\nA huxtable: 5 × 5\n\n| V1 &lt;dbl&gt; | V2 &lt;dbl&gt; | V3 &lt;dbl&gt; | V4 &lt;dbl&gt; | V5 &lt;dbl&gt; |\n|---|---|---|---|---|\n| 1 | 0 | 0 | 0 | 0 |\n| 0 | 0 | 0 | 0 | 0 |\n| 0 | 1 | 0 | 0 | 0 |\n| 0 | 0 | 0 | 0 | 1 |\n| 0 | 0 | 0 | 0 | 0 |\n\n",
            "text/latex": "A huxtable: 5 × 5\n\\begin{tabular}{lllll}\n V1 & V2 & V3 & V4 & V5\\\\\n <dbl> & <dbl> & <dbl> & <dbl> & <dbl>\\\\\n\\hline\n\t 1 & 0 & 0 & 0 & 0\\\\\n\t 0 & 0 & 0 & 0 & 0\\\\\n\t 0 & 1 & 0 & 0 & 0\\\\\n\t 0 & 0 & 0 & 0 & 1\\\\\n\t 0 & 0 & 0 & 0 & 0\\\\\n\\end{tabular}\n",
            "text/plain": [
              "  V1 V2 V3 V4 V5\n",
              "1 1  0  0  0  0 \n",
              "2 0  0  0  0  0 \n",
              "3 0  1  0  0  0 \n",
              "4 0  0  0  0  1 \n",
              "5 0  0  0  0  0 "
            ]
          },
          "metadata": {}
        }
      ]
    },
    {
      "cell_type": "markdown",
      "source": [
        "The above matrix is not in rref because the zero rows are not at the bottom. Do that."
      ],
      "metadata": {
        "id": "3G30rsplLCBG"
      }
    },
    {
      "cell_type": "code",
      "source": [
        "a -> a2 # create a temp matrix from which we can index the required rows\n",
        "a <- a2[c(1,3,4,2,5),];"
      ],
      "metadata": {
        "colab": {
          "base_uri": "https://localhost:8080/",
          "height": 254
        },
        "id": "JeOhr1yBLJ0R",
        "outputId": "c4a1884a-be53-401a-da6a-c138bb1d532e"
      },
      "execution_count": 69,
      "outputs": [
        {
          "output_type": "display_data",
          "data": {
            "text/html": [
              "<table class=\"dataframe\">\n",
              "<caption>A huxtable: 5 × 5</caption>\n",
              "<thead>\n",
              "\t<tr><th scope=col>V1</th><th scope=col>V2</th><th scope=col>V3</th><th scope=col>V4</th><th scope=col>V5</th></tr>\n",
              "\t<tr><th scope=col>&lt;dbl&gt;</th><th scope=col>&lt;dbl&gt;</th><th scope=col>&lt;dbl&gt;</th><th scope=col>&lt;dbl&gt;</th><th scope=col>&lt;dbl&gt;</th></tr>\n",
              "</thead>\n",
              "<tbody>\n",
              "\t<tr><td>1</td><td>0</td><td>0</td><td>0</td><td>0</td></tr>\n",
              "\t<tr><td>0</td><td>1</td><td>0</td><td>0</td><td>0</td></tr>\n",
              "\t<tr><td>0</td><td>0</td><td>0</td><td>0</td><td>1</td></tr>\n",
              "\t<tr><td>0</td><td>0</td><td>0</td><td>0</td><td>0</td></tr>\n",
              "\t<tr><td>0</td><td>0</td><td>0</td><td>0</td><td>0</td></tr>\n",
              "</tbody>\n",
              "</table>\n"
            ],
            "text/markdown": "\nA huxtable: 5 × 5\n\n| V1 &lt;dbl&gt; | V2 &lt;dbl&gt; | V3 &lt;dbl&gt; | V4 &lt;dbl&gt; | V5 &lt;dbl&gt; |\n|---|---|---|---|---|\n| 1 | 0 | 0 | 0 | 0 |\n| 0 | 1 | 0 | 0 | 0 |\n| 0 | 0 | 0 | 0 | 1 |\n| 0 | 0 | 0 | 0 | 0 |\n| 0 | 0 | 0 | 0 | 0 |\n\n",
            "text/latex": "A huxtable: 5 × 5\n\\begin{tabular}{lllll}\n V1 & V2 & V3 & V4 & V5\\\\\n <dbl> & <dbl> & <dbl> & <dbl> & <dbl>\\\\\n\\hline\n\t 1 & 0 & 0 & 0 & 0\\\\\n\t 0 & 1 & 0 & 0 & 0\\\\\n\t 0 & 0 & 0 & 0 & 1\\\\\n\t 0 & 0 & 0 & 0 & 0\\\\\n\t 0 & 0 & 0 & 0 & 0\\\\\n\\end{tabular}\n",
            "text/plain": [
              "  V1 V2 V3 V4 V5\n",
              "1 1  0  0  0  0 \n",
              "2 0  1  0  0  0 \n",
              "3 0  0  0  0  1 \n",
              "4 0  0  0  0  0 \n",
              "5 0  0  0  0  0 "
            ]
          },
          "metadata": {}
        }
      ]
    },
    {
      "cell_type": "markdown",
      "source": [
        "In the augmented matrix below (augmented with an additional column of zeros), we note the solutions. $x_1$, $x_3$ and $x_5$ are all $0$, and the remaining variables, viz $x_3$ and $x_5$ are free."
      ],
      "metadata": {
        "id": "W6ouu3khM2Ty"
      }
    },
    {
      "cell_type": "code",
      "source": [
        " as_hux(cbind(a, rep(0,5)))"
      ],
      "metadata": {
        "colab": {
          "base_uri": "https://localhost:8080/",
          "height": 254
        },
        "id": "AREEfKeEMkls",
        "outputId": "079d8560-621b-48f1-b330-65b08535aec6"
      },
      "execution_count": 70,
      "outputs": [
        {
          "output_type": "display_data",
          "data": {
            "text/html": [
              "<table class=\"dataframe\">\n",
              "<caption>A huxtable: 5 × 6</caption>\n",
              "<thead>\n",
              "\t<tr><th scope=col>V1</th><th scope=col>V2</th><th scope=col>V3</th><th scope=col>V4</th><th scope=col>V5</th><th scope=col>V6</th></tr>\n",
              "\t<tr><th scope=col>&lt;dbl&gt;</th><th scope=col>&lt;dbl&gt;</th><th scope=col>&lt;dbl&gt;</th><th scope=col>&lt;dbl&gt;</th><th scope=col>&lt;dbl&gt;</th><th scope=col>&lt;dbl&gt;</th></tr>\n",
              "</thead>\n",
              "<tbody>\n",
              "\t<tr><td>1</td><td>0</td><td>0</td><td>0</td><td>0</td><td>0</td></tr>\n",
              "\t<tr><td>0</td><td>1</td><td>0</td><td>0</td><td>0</td><td>0</td></tr>\n",
              "\t<tr><td>0</td><td>0</td><td>0</td><td>0</td><td>1</td><td>0</td></tr>\n",
              "\t<tr><td>0</td><td>0</td><td>0</td><td>0</td><td>0</td><td>0</td></tr>\n",
              "\t<tr><td>0</td><td>0</td><td>0</td><td>0</td><td>0</td><td>0</td></tr>\n",
              "</tbody>\n",
              "</table>\n"
            ],
            "text/markdown": "\nA huxtable: 5 × 6\n\n| V1 &lt;dbl&gt; | V2 &lt;dbl&gt; | V3 &lt;dbl&gt; | V4 &lt;dbl&gt; | V5 &lt;dbl&gt; | V6 &lt;dbl&gt; |\n|---|---|---|---|---|---|\n| 1 | 0 | 0 | 0 | 0 | 0 |\n| 0 | 1 | 0 | 0 | 0 | 0 |\n| 0 | 0 | 0 | 0 | 1 | 0 |\n| 0 | 0 | 0 | 0 | 0 | 0 |\n| 0 | 0 | 0 | 0 | 0 | 0 |\n\n",
            "text/latex": "A huxtable: 5 × 6\n\\begin{tabular}{llllll}\n V1 & V2 & V3 & V4 & V5 & V6\\\\\n <dbl> & <dbl> & <dbl> & <dbl> & <dbl> & <dbl>\\\\\n\\hline\n\t 1 & 0 & 0 & 0 & 0 & 0\\\\\n\t 0 & 1 & 0 & 0 & 0 & 0\\\\\n\t 0 & 0 & 0 & 0 & 1 & 0\\\\\n\t 0 & 0 & 0 & 0 & 0 & 0\\\\\n\t 0 & 0 & 0 & 0 & 0 & 0\\\\\n\\end{tabular}\n",
            "text/plain": [
              "  V1 V2 V3 V4 V5 V6\n",
              "1 1  0  0  0  0  0 \n",
              "2 0  1  0  0  0  0 \n",
              "3 0  0  0  0  1  0 \n",
              "4 0  0  0  0  0  0 \n",
              "5 0  0  0  0  0  0 "
            ]
          },
          "metadata": {}
        }
      ]
    },
    {
      "cell_type": "code",
      "source": [
        " as_hux(cbind(a[-c(4,5),], rep(0,3)))"
      ],
      "metadata": {
        "colab": {
          "base_uri": "https://localhost:8080/",
          "height": 192
        },
        "id": "KNGlZwZSMsDL",
        "outputId": "865ca2e2-b0f5-450e-be7a-04e0fcd9b623"
      },
      "execution_count": 71,
      "outputs": [
        {
          "output_type": "display_data",
          "data": {
            "text/html": [
              "<table class=\"dataframe\">\n",
              "<caption>A huxtable: 3 × 6</caption>\n",
              "<thead>\n",
              "\t<tr><th scope=col>V1</th><th scope=col>V2</th><th scope=col>V3</th><th scope=col>V4</th><th scope=col>V5</th><th scope=col>V6</th></tr>\n",
              "\t<tr><th scope=col>&lt;dbl&gt;</th><th scope=col>&lt;dbl&gt;</th><th scope=col>&lt;dbl&gt;</th><th scope=col>&lt;dbl&gt;</th><th scope=col>&lt;dbl&gt;</th><th scope=col>&lt;dbl&gt;</th></tr>\n",
              "</thead>\n",
              "<tbody>\n",
              "\t<tr><td>1</td><td>0</td><td>0</td><td>0</td><td>0</td><td>0</td></tr>\n",
              "\t<tr><td>0</td><td>1</td><td>0</td><td>0</td><td>0</td><td>0</td></tr>\n",
              "\t<tr><td>0</td><td>0</td><td>0</td><td>0</td><td>1</td><td>0</td></tr>\n",
              "</tbody>\n",
              "</table>\n"
            ],
            "text/markdown": "\nA huxtable: 3 × 6\n\n| V1 &lt;dbl&gt; | V2 &lt;dbl&gt; | V3 &lt;dbl&gt; | V4 &lt;dbl&gt; | V5 &lt;dbl&gt; | V6 &lt;dbl&gt; |\n|---|---|---|---|---|---|\n| 1 | 0 | 0 | 0 | 0 | 0 |\n| 0 | 1 | 0 | 0 | 0 | 0 |\n| 0 | 0 | 0 | 0 | 1 | 0 |\n\n",
            "text/latex": "A huxtable: 3 × 6\n\\begin{tabular}{llllll}\n V1 & V2 & V3 & V4 & V5 & V6\\\\\n <dbl> & <dbl> & <dbl> & <dbl> & <dbl> & <dbl>\\\\\n\\hline\n\t 1 & 0 & 0 & 0 & 0 & 0\\\\\n\t 0 & 1 & 0 & 0 & 0 & 0\\\\\n\t 0 & 0 & 0 & 0 & 1 & 0\\\\\n\\end{tabular}\n",
            "text/plain": [
              "  V1 V2 V3 V4 V5 V6\n",
              "1 1  0  0  0  0  0 \n",
              "2 0  1  0  0  0  0 \n",
              "3 0  0  0  0  1  0 "
            ]
          },
          "metadata": {}
        }
      ]
    },
    {
      "cell_type": "code",
      "source": [
        " as_hux(cbind(a[-c(4,5),-c(3,4)]) |> cbind(c(0,0,0)))"
      ],
      "metadata": {
        "colab": {
          "base_uri": "https://localhost:8080/",
          "height": 192
        },
        "id": "fpyD7RHdOkzz",
        "outputId": "888f84bf-f2ec-475b-e5af-4d7d0ee96d3f"
      },
      "execution_count": 82,
      "outputs": [
        {
          "output_type": "display_data",
          "data": {
            "text/html": [
              "<table class=\"dataframe\">\n",
              "<caption>A huxtable: 3 × 4</caption>\n",
              "<thead>\n",
              "\t<tr><th scope=col>V1</th><th scope=col>V2</th><th scope=col>V3</th><th scope=col>V4</th></tr>\n",
              "\t<tr><th scope=col>&lt;dbl&gt;</th><th scope=col>&lt;dbl&gt;</th><th scope=col>&lt;dbl&gt;</th><th scope=col>&lt;dbl&gt;</th></tr>\n",
              "</thead>\n",
              "<tbody>\n",
              "\t<tr><td>1</td><td>0</td><td>0</td><td>0</td></tr>\n",
              "\t<tr><td>0</td><td>1</td><td>0</td><td>0</td></tr>\n",
              "\t<tr><td>0</td><td>0</td><td>1</td><td>0</td></tr>\n",
              "</tbody>\n",
              "</table>\n"
            ],
            "text/markdown": "\nA huxtable: 3 × 4\n\n| V1 &lt;dbl&gt; | V2 &lt;dbl&gt; | V3 &lt;dbl&gt; | V4 &lt;dbl&gt; |\n|---|---|---|---|\n| 1 | 0 | 0 | 0 |\n| 0 | 1 | 0 | 0 |\n| 0 | 0 | 1 | 0 |\n\n",
            "text/latex": "A huxtable: 3 × 4\n\\begin{tabular}{llll}\n V1 & V2 & V3 & V4\\\\\n <dbl> & <dbl> & <dbl> & <dbl>\\\\\n\\hline\n\t 1 & 0 & 0 & 0\\\\\n\t 0 & 1 & 0 & 0\\\\\n\t 0 & 0 & 1 & 0\\\\\n\\end{tabular}\n",
            "text/plain": [
              "  V1 V2 V3 V4\n",
              "1 1  0  0  0 \n",
              "2 0  1  0  0 \n",
              "3 0  0  1  0 "
            ]
          },
          "metadata": {}
        }
      ]
    },
    {
      "cell_type": "code",
      "source": [],
      "metadata": {
        "id": "mVemyXkEW8-l"
      },
      "execution_count": null,
      "outputs": []
    },
    {
      "cell_type": "code",
      "source": [],
      "metadata": {
        "id": "fcvo1gy2W2_b"
      },
      "execution_count": null,
      "outputs": []
    },
    {
      "cell_type": "code",
      "source": [],
      "metadata": {
        "id": "OcIB-9oiWsSq"
      },
      "execution_count": null,
      "outputs": []
    },
    {
      "cell_type": "code",
      "source": [],
      "metadata": {
        "id": "zIvZyGWwWlDi"
      },
      "execution_count": null,
      "outputs": []
    },
    {
      "cell_type": "code",
      "source": [],
      "metadata": {
        "id": "dLh6gnpvWa8P"
      },
      "execution_count": null,
      "outputs": []
    },
    {
      "cell_type": "code",
      "source": [],
      "metadata": {
        "id": "zbqUji1lVyeA"
      },
      "execution_count": null,
      "outputs": []
    },
    {
      "cell_type": "code",
      "source": [],
      "metadata": {
        "id": "Lzj5wiQeVv1Q"
      },
      "execution_count": null,
      "outputs": []
    },
    {
      "cell_type": "code",
      "source": [],
      "metadata": {
        "id": "M4UvW2p_Vsor"
      },
      "execution_count": null,
      "outputs": []
    },
    {
      "cell_type": "markdown",
      "source": [
        "Now the matrix is in rref, and we notice that the pivot variables are $x_1$, $x_2$ and $x_5$."
      ],
      "metadata": {
        "id": "Qzdbro3yLhEx"
      }
    },
    {
      "cell_type": "code",
      "source": [],
      "metadata": {
        "id": "kSXOLb0VMBUL"
      },
      "execution_count": null,
      "outputs": []
    },
    {
      "cell_type": "code",
      "source": [],
      "metadata": {
        "id": "kobMvusqLbzc"
      },
      "execution_count": null,
      "outputs": []
    },
    {
      "cell_type": "code",
      "source": [
        "as_hux(a0)"
      ],
      "metadata": {
        "colab": {
          "base_uri": "https://localhost:8080/",
          "height": 254
        },
        "id": "PVWwKWnC0iy9",
        "outputId": "4debc11c-3517-4698-fd6f-f99b38560f3e"
      },
      "execution_count": 64,
      "outputs": [
        {
          "output_type": "display_data",
          "data": {
            "text/html": [
              "<table class=\"dataframe\">\n",
              "<caption>A huxtable: 5 × 5</caption>\n",
              "<thead>\n",
              "\t<tr><th scope=col>V1</th><th scope=col>V2</th><th scope=col>V3</th><th scope=col>V4</th><th scope=col>V5</th></tr>\n",
              "\t<tr><th scope=col>&lt;dbl&gt;</th><th scope=col>&lt;dbl&gt;</th><th scope=col>&lt;dbl&gt;</th><th scope=col>&lt;dbl&gt;</th><th scope=col>&lt;dbl&gt;</th></tr>\n",
              "</thead>\n",
              "<tbody>\n",
              "\t<tr><td>0</td><td>1</td><td>0</td><td>0</td><td>0</td></tr>\n",
              "\t<tr><td>1</td><td>0</td><td>0</td><td>0</td><td>0</td></tr>\n",
              "\t<tr><td>1</td><td>0</td><td>0</td><td>0</td><td>0</td></tr>\n",
              "\t<tr><td>0</td><td>0</td><td>0</td><td>0</td><td>1</td></tr>\n",
              "\t<tr><td>0</td><td>0</td><td>0</td><td>0</td><td>0</td></tr>\n",
              "</tbody>\n",
              "</table>\n"
            ],
            "text/markdown": "\nA huxtable: 5 × 5\n\n| V1 &lt;dbl&gt; | V2 &lt;dbl&gt; | V3 &lt;dbl&gt; | V4 &lt;dbl&gt; | V5 &lt;dbl&gt; |\n|---|---|---|---|---|\n| 0 | 1 | 0 | 0 | 0 |\n| 1 | 0 | 0 | 0 | 0 |\n| 1 | 0 | 0 | 0 | 0 |\n| 0 | 0 | 0 | 0 | 1 |\n| 0 | 0 | 0 | 0 | 0 |\n\n",
            "text/latex": "A huxtable: 5 × 5\n\\begin{tabular}{lllll}\n V1 & V2 & V3 & V4 & V5\\\\\n <dbl> & <dbl> & <dbl> & <dbl> & <dbl>\\\\\n\\hline\n\t 0 & 1 & 0 & 0 & 0\\\\\n\t 1 & 0 & 0 & 0 & 0\\\\\n\t 1 & 0 & 0 & 0 & 0\\\\\n\t 0 & 0 & 0 & 0 & 1\\\\\n\t 0 & 0 & 0 & 0 & 0\\\\\n\\end{tabular}\n",
            "text/plain": [
              "  V1 V2 V3 V4 V5\n",
              "1 0  1  0  0  0 \n",
              "2 1  0  0  0  0 \n",
              "3 1  0  0  0  0 \n",
              "4 0  0  0  0  1 \n",
              "5 0  0  0  0  0 "
            ]
          },
          "metadata": {}
        }
      ]
    },
    {
      "cell_type": "code",
      "source": [],
      "metadata": {
        "id": "A5SpIMQTJ-e9"
      },
      "execution_count": null,
      "outputs": []
    },
    {
      "cell_type": "code",
      "source": [
        "det(a0)"
      ],
      "metadata": {
        "colab": {
          "base_uri": "https://localhost:8080/",
          "height": 34
        },
        "id": "xjGgt9OR0yzD",
        "outputId": "199d26a8-7824-4431-f8d8-9eb80fa5e407"
      },
      "execution_count": 73,
      "outputs": [
        {
          "output_type": "display_data",
          "data": {
            "text/html": [
              "0"
            ],
            "text/markdown": "0",
            "text/latex": "0",
            "text/plain": [
              "[1] 0"
            ]
          },
          "metadata": {}
        }
      ]
    },
    {
      "cell_type": "code",
      "source": [],
      "metadata": {
        "id": "gq_W3LuJPqKx"
      },
      "execution_count": null,
      "outputs": []
    },
    {
      "cell_type": "code",
      "source": [],
      "metadata": {
        "id": "xWyD2pYvPnZB"
      },
      "execution_count": null,
      "outputs": []
    },
    {
      "cell_type": "code",
      "source": [],
      "metadata": {
        "id": "WbIrSmZhJ2wb"
      },
      "execution_count": null,
      "outputs": []
    },
    {
      "cell_type": "markdown",
      "source": [],
      "metadata": {
        "id": "g0ziGPQMI9Dr"
      }
    },
    {
      "cell_type": "code",
      "source": [],
      "metadata": {
        "id": "HLxsy5T9JZQe"
      },
      "execution_count": null,
      "outputs": []
    },
    {
      "cell_type": "code",
      "source": [],
      "metadata": {
        "id": "sV2yf2xTIaOI"
      },
      "execution_count": null,
      "outputs": []
    },
    {
      "cell_type": "code",
      "source": [],
      "metadata": {
        "id": "ZEpd_WgBIJZX"
      },
      "execution_count": null,
      "outputs": []
    },
    {
      "cell_type": "code",
      "source": [],
      "metadata": {
        "id": "q5YpLuRnIEGP"
      },
      "execution_count": null,
      "outputs": []
    },
    {
      "cell_type": "markdown",
      "source": [
        "The above matrix is in rref, and hence 1st, 2nd and 5th columns are pivot columns, and hence they form a basis for the column space or R, the echelon form matrix. Hence, in the original matrix, A, columns corresponding to the same column numbers will form the basis for the column space of A.\n",
        "\n",
        "For the nullspace of A, we solve $A_{red}\\textbf{x} = \\textbf{0}$ by expressing each of the **pivot** variables in terms of **nonpivot** variables.\n",
        "\n",
        "In the exercise, $x_1, x_2, x_4$ are the pivots, whereas $x_3,x_5$ are free. Solving, we get:\n",
        "$x_1 = x_2 = x_4 = 0$ and\n",
        "\n"
      ],
      "metadata": {
        "id": "wOtO2tHd1RqO"
      }
    },
    {
      "cell_type": "code",
      "source": [],
      "metadata": {
        "id": "Sfs5R40fHfyw"
      },
      "execution_count": null,
      "outputs": []
    },
    {
      "cell_type": "code",
      "source": [],
      "metadata": {
        "id": "cZTrCWpPGCHA"
      },
      "execution_count": null,
      "outputs": []
    },
    {
      "cell_type": "code",
      "source": [
        "a0[,c(1,2,5)]"
      ],
      "metadata": {
        "colab": {
          "base_uri": "https://localhost:8080/",
          "height": 226
        },
        "id": "yQh_rfeb3oQl",
        "outputId": "3a0e9c75-eab3-4be3-e8cb-ba7b7c5363d7"
      },
      "execution_count": 16,
      "outputs": [
        {
          "output_type": "display_data",
          "data": {
            "text/html": [
              "<table class=\"dataframe\">\n",
              "<caption>A matrix: 5 × 3 of type dbl</caption>\n",
              "<tbody>\n",
              "\t<tr><td>0</td><td>1</td><td>0</td></tr>\n",
              "\t<tr><td>1</td><td>0</td><td>0</td></tr>\n",
              "\t<tr><td>1</td><td>0</td><td>0</td></tr>\n",
              "\t<tr><td>0</td><td>0</td><td>1</td></tr>\n",
              "\t<tr><td>0</td><td>0</td><td>0</td></tr>\n",
              "</tbody>\n",
              "</table>\n"
            ],
            "text/markdown": "\nA matrix: 5 × 3 of type dbl\n\n| 0 | 1 | 0 |\n| 1 | 0 | 0 |\n| 1 | 0 | 0 |\n| 0 | 0 | 1 |\n| 0 | 0 | 0 |\n\n",
            "text/latex": "A matrix: 5 × 3 of type dbl\n\\begin{tabular}{lll}\n\t 0 & 1 & 0\\\\\n\t 1 & 0 & 0\\\\\n\t 1 & 0 & 0\\\\\n\t 0 & 0 & 1\\\\\n\t 0 & 0 & 0\\\\\n\\end{tabular}\n",
            "text/plain": [
              "     [,1] [,2] [,3]\n",
              "[1,] 0    1    0   \n",
              "[2,] 1    0    0   \n",
              "[3,] 1    0    0   \n",
              "[4,] 0    0    1   \n",
              "[5,] 0    0    0   "
            ]
          },
          "metadata": {}
        }
      ]
    },
    {
      "cell_type": "code",
      "source": [],
      "metadata": {
        "id": "GbCedQL53Wn1"
      },
      "execution_count": null,
      "outputs": []
    },
    {
      "cell_type": "code",
      "source": [
        "a = matrix(c(5,0,4,0,\n",
        "2,1,0,0,\n",
        "0,0,5,0,\n",
        "rep(0,4)),4,4) -> a0"
      ],
      "metadata": {
        "id": "UyQMLw931Wq-"
      },
      "execution_count": 22,
      "outputs": []
    },
    {
      "cell_type": "code",
      "source": [
        "a = a0[c(1,3,2,4),]"
      ],
      "metadata": {
        "id": "6jzt1KP106Dx"
      },
      "execution_count": 23,
      "outputs": []
    },
    {
      "cell_type": "code",
      "source": [
        "a <- rbind(a[1,], 4*a[1,] - 5*a[2,], a[3:4,])\n",
        "a <- rbind(a[1:2,], a[2,] - 8*a[3,], a[4,])"
      ],
      "metadata": {
        "id": "D0UqAl201Vdy"
      },
      "execution_count": 24,
      "outputs": []
    },
    {
      "cell_type": "code",
      "source": [
        "a <- rbind(a[2,] - 4*a[1,], a[2:4,])\n"
      ],
      "metadata": {
        "colab": {
          "base_uri": "https://localhost:8080/",
          "height": 177
        },
        "id": "sOiC47jb15-a",
        "outputId": "a6841fe2-9ddc-4751-d3c6-419456889ea4"
      },
      "execution_count": 26,
      "outputs": [
        {
          "output_type": "display_data",
          "data": {
            "text/html": [
              "<table class=\"dataframe\">\n",
              "<caption>A matrix: 4 × 4 of type dbl</caption>\n",
              "<tbody>\n",
              "\t<tr><td>-20</td><td>0</td><td>-25</td><td>0</td></tr>\n",
              "\t<tr><td>  0</td><td>8</td><td>-25</td><td>0</td></tr>\n",
              "\t<tr><td>  0</td><td>0</td><td>-25</td><td>0</td></tr>\n",
              "\t<tr><td>  0</td><td>0</td><td>  0</td><td>0</td></tr>\n",
              "</tbody>\n",
              "</table>\n"
            ],
            "text/markdown": "\nA matrix: 4 × 4 of type dbl\n\n| -20 | 0 | -25 | 0 |\n|   0 | 8 | -25 | 0 |\n|   0 | 0 | -25 | 0 |\n|   0 | 0 |   0 | 0 |\n\n",
            "text/latex": "A matrix: 4 × 4 of type dbl\n\\begin{tabular}{llll}\n\t -20 & 0 & -25 & 0\\\\\n\t   0 & 8 & -25 & 0\\\\\n\t   0 & 0 & -25 & 0\\\\\n\t   0 & 0 &   0 & 0\\\\\n\\end{tabular}\n",
            "text/plain": [
              "     [,1] [,2] [,3] [,4]\n",
              "[1,] -20  0    -25  0   \n",
              "[2,]   0  8    -25  0   \n",
              "[3,]   0  0    -25  0   \n",
              "[4,]   0  0      0  0   "
            ]
          },
          "metadata": {}
        }
      ]
    },
    {
      "cell_type": "code",
      "source": [
        "c(-1/20,1/8,-1/25,1)*a"
      ],
      "metadata": {
        "colab": {
          "base_uri": "https://localhost:8080/",
          "height": 177
        },
        "id": "4lKyY1QJ3Qc9",
        "outputId": "8c28f0ff-0114-4b9a-9488-f36942495622"
      },
      "execution_count": 27,
      "outputs": [
        {
          "output_type": "display_data",
          "data": {
            "text/html": [
              "<table class=\"dataframe\">\n",
              "<caption>A matrix: 4 × 4 of type dbl</caption>\n",
              "<tbody>\n",
              "\t<tr><td>1</td><td>0</td><td> 1.250</td><td>0</td></tr>\n",
              "\t<tr><td>0</td><td>1</td><td>-3.125</td><td>0</td></tr>\n",
              "\t<tr><td>0</td><td>0</td><td> 1.000</td><td>0</td></tr>\n",
              "\t<tr><td>0</td><td>0</td><td> 0.000</td><td>0</td></tr>\n",
              "</tbody>\n",
              "</table>\n"
            ],
            "text/markdown": "\nA matrix: 4 × 4 of type dbl\n\n| 1 | 0 |  1.250 | 0 |\n| 0 | 1 | -3.125 | 0 |\n| 0 | 0 |  1.000 | 0 |\n| 0 | 0 |  0.000 | 0 |\n\n",
            "text/latex": "A matrix: 4 × 4 of type dbl\n\\begin{tabular}{llll}\n\t 1 & 0 &  1.250 & 0\\\\\n\t 0 & 1 & -3.125 & 0\\\\\n\t 0 & 0 &  1.000 & 0\\\\\n\t 0 & 0 &  0.000 & 0\\\\\n\\end{tabular}\n",
            "text/plain": [
              "     [,1] [,2] [,3]   [,4]\n",
              "[1,] 1    0     1.250 0   \n",
              "[2,] 0    1    -3.125 0   \n",
              "[3,] 0    0     1.000 0   \n",
              "[4,] 0    0     0.000 0   "
            ]
          },
          "metadata": {}
        }
      ]
    },
    {
      "cell_type": "markdown",
      "source": [
        "$\\begin{matrix}\n",
        "4 & 0 & 5 & 0 \\\\\n",
        "0 & 8 & -25 & 0 \\\\\n",
        "0 & 0 & -25 & 0 \\\\\n",
        "0 & 0 & 0 & 0 \\\\\n",
        "\\end {matrix}$\n",
        "\n"
      ],
      "metadata": {
        "id": "G4XXWHOr6oK7"
      }
    },
    {
      "cell_type": "code",
      "source": [
        "m <- matrix(c(2,1,-6,-2,0,\n",
        "              0,1,6,-2,0,\n",
        "              0,0,24,-2,0),byrow = TRUE, 3,5)"
      ],
      "metadata": {
        "id": "iUI5OizIXfte"
      },
      "execution_count": 4,
      "outputs": []
    },
    {
      "cell_type": "code",
      "source": [
        "(m <- rbind(m[3,] + 4*m[1,],\n",
        "          m[3,] - 4*m[2,],\n",
        "          m[3,]))"
      ],
      "metadata": {
        "colab": {
          "base_uri": "https://localhost:8080/",
          "height": 146
        },
        "id": "3wpLiPbwsOTW",
        "outputId": "f4055db4-4ff5-4e93-b9da-3bace3c51a7e"
      },
      "execution_count": 5,
      "outputs": [
        {
          "output_type": "display_data",
          "data": {
            "text/html": [
              "<table class=\"dataframe\">\n",
              "<caption>A matrix: 3 × 5 of type dbl</caption>\n",
              "<tbody>\n",
              "\t<tr><td>8</td><td> 4</td><td> 0</td><td>-10</td><td>0</td></tr>\n",
              "\t<tr><td>0</td><td>-4</td><td> 0</td><td>  6</td><td>0</td></tr>\n",
              "\t<tr><td>0</td><td> 0</td><td>24</td><td> -2</td><td>0</td></tr>\n",
              "</tbody>\n",
              "</table>\n"
            ],
            "text/markdown": "\nA matrix: 3 × 5 of type dbl\n\n| 8 |  4 |  0 | -10 | 0 |\n| 0 | -4 |  0 |   6 | 0 |\n| 0 |  0 | 24 |  -2 | 0 |\n\n",
            "text/latex": "A matrix: 3 × 5 of type dbl\n\\begin{tabular}{lllll}\n\t 8 &  4 &  0 & -10 & 0\\\\\n\t 0 & -4 &  0 &   6 & 0\\\\\n\t 0 &  0 & 24 &  -2 & 0\\\\\n\\end{tabular}\n",
            "text/plain": [
              "     [,1] [,2] [,3] [,4] [,5]\n",
              "[1,] 8     4    0   -10  0   \n",
              "[2,] 0    -4    0     6  0   \n",
              "[3,] 0     0   24    -2  0   "
            ]
          },
          "metadata": {}
        }
      ]
    },
    {
      "cell_type": "code",
      "source": [
        "(m <- rbind(m[2,] + m[1,], m[2:3,]))"
      ],
      "metadata": {
        "colab": {
          "base_uri": "https://localhost:8080/",
          "height": 146
        },
        "id": "xginSUH6sqKz",
        "outputId": "462ea55c-982d-47ad-ca5e-f727eb6a617b"
      },
      "execution_count": 6,
      "outputs": [
        {
          "output_type": "display_data",
          "data": {
            "text/html": [
              "<table class=\"dataframe\">\n",
              "<caption>A matrix: 3 × 5 of type dbl</caption>\n",
              "<tbody>\n",
              "\t<tr><td>8</td><td> 0</td><td> 0</td><td>-4</td><td>0</td></tr>\n",
              "\t<tr><td>0</td><td>-4</td><td> 0</td><td> 6</td><td>0</td></tr>\n",
              "\t<tr><td>0</td><td> 0</td><td>24</td><td>-2</td><td>0</td></tr>\n",
              "</tbody>\n",
              "</table>\n"
            ],
            "text/markdown": "\nA matrix: 3 × 5 of type dbl\n\n| 8 |  0 |  0 | -4 | 0 |\n| 0 | -4 |  0 |  6 | 0 |\n| 0 |  0 | 24 | -2 | 0 |\n\n",
            "text/latex": "A matrix: 3 × 5 of type dbl\n\\begin{tabular}{lllll}\n\t 8 &  0 &  0 & -4 & 0\\\\\n\t 0 & -4 &  0 &  6 & 0\\\\\n\t 0 &  0 & 24 & -2 & 0\\\\\n\\end{tabular}\n",
            "text/plain": [
              "     [,1] [,2] [,3] [,4] [,5]\n",
              "[1,] 8     0    0   -4   0   \n",
              "[2,] 0    -4    0    6   0   \n",
              "[3,] 0     0   24   -2   0   "
            ]
          },
          "metadata": {}
        }
      ]
    },
    {
      "cell_type": "code",
      "source": [
        "sweep(m,1,c(8,-2,2),\"/\")"
      ],
      "metadata": {
        "colab": {
          "base_uri": "https://localhost:8080/",
          "height": 146
        },
        "id": "vBVphjC-s_Ve",
        "outputId": "a65ed901-f84b-45cc-b9c2-bb66ab32a9c2"
      },
      "execution_count": 10,
      "outputs": [
        {
          "output_type": "display_data",
          "data": {
            "text/html": [
              "<table class=\"dataframe\">\n",
              "<caption>A matrix: 3 × 5 of type dbl</caption>\n",
              "<tbody>\n",
              "\t<tr><td>1</td><td>0</td><td> 0</td><td>-0.5</td><td>0</td></tr>\n",
              "\t<tr><td>0</td><td>2</td><td> 0</td><td>-3.0</td><td>0</td></tr>\n",
              "\t<tr><td>0</td><td>0</td><td>12</td><td>-1.0</td><td>0</td></tr>\n",
              "</tbody>\n",
              "</table>\n"
            ],
            "text/markdown": "\nA matrix: 3 × 5 of type dbl\n\n| 1 | 0 |  0 | -0.5 | 0 |\n| 0 | 2 |  0 | -3.0 | 0 |\n| 0 | 0 | 12 | -1.0 | 0 |\n\n",
            "text/latex": "A matrix: 3 × 5 of type dbl\n\\begin{tabular}{lllll}\n\t 1 & 0 &  0 & -0.5 & 0\\\\\n\t 0 & 2 &  0 & -3.0 & 0\\\\\n\t 0 & 0 & 12 & -1.0 & 0\\\\\n\\end{tabular}\n",
            "text/plain": [
              "     [,1] [,2] [,3] [,4] [,5]\n",
              "[1,] 1    0     0   -0.5 0   \n",
              "[2,] 0    2     0   -3.0 0   \n",
              "[3,] 0    0    12   -1.0 0   "
            ]
          },
          "metadata": {}
        }
      ]
    },
    {
      "cell_type": "code",
      "source": [],
      "metadata": {
        "id": "dj--RY_ZtNZH"
      },
      "execution_count": null,
      "outputs": []
    },
    {
      "cell_type": "code",
      "source": [
        "1/.083"
      ],
      "metadata": {
        "colab": {
          "base_uri": "https://localhost:8080/",
          "height": 34
        },
        "id": "AhTB9RyutD6Q",
        "outputId": "2b317c1f-b926-4ab2-e0b7-eee5e6743541"
      },
      "execution_count": 8,
      "outputs": [
        {
          "output_type": "display_data",
          "data": {
            "text/html": [
              "12.0481927710843"
            ],
            "text/markdown": "12.0481927710843",
            "text/latex": "12.0481927710843",
            "text/plain": [
              "[1] 12.04819"
            ]
          },
          "metadata": {}
        }
      ]
    },
    {
      "cell_type": "code",
      "source": [],
      "metadata": {
        "id": "mahM9jThtHtR"
      },
      "execution_count": null,
      "outputs": []
    }
  ]
}